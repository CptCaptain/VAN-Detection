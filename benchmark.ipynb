{
 "cells": [
  {
   "cell_type": "markdown",
   "id": "c76c31f6-168d-4edf-8c19-551d745a1186",
   "metadata": {},
   "source": [
    "# Benchmarks"
   ]
  },
  {
   "cell_type": "markdown",
   "id": "28dbfa16-28c6-4e51-b3db-d8cd42398933",
   "metadata": {
    "jp-MarkdownHeadingCollapsed": true,
    "tags": []
   },
   "source": [
    "## Init API"
   ]
  },
  {
   "cell_type": "code",
   "execution_count": 18,
   "id": "ed05ec53-1717-430a-b318-66df7d633027",
   "metadata": {},
   "outputs": [],
   "source": [
    "import wandb\n",
    "api = wandb.Api()\n",
    "config_base = 'configs/det_fpn'"
   ]
  },
  {
   "cell_type": "markdown",
   "id": "fbd01924-3e97-43f8-b5ce-7e2e3a85e696",
   "metadata": {
    "jp-MarkdownHeadingCollapsed": true,
    "tags": []
   },
   "source": [
    "## Choose and download checkpoint"
   ]
  },
  {
   "cell_type": "code",
   "execution_count": 1,
   "id": "bd1f21a7-13d5-42d7-bb1e-01adc237b7e1",
   "metadata": {},
   "outputs": [
    {
     "name": "stderr",
     "output_type": "stream",
     "text": [
      "\u001b[34m\u001b[1mwandb\u001b[0m: Downloading large artifact run_3ijy5bjy_model:v9, 391.94MB. 1 files... \n",
      "\u001b[34m\u001b[1mwandb\u001b[0m:   1 of 1 files downloaded.  \n",
      "Done. 0:0:2.0\n"
     ]
    }
   ],
   "source": [
    "artifact_b2 = api.artifact('nkoch-aitastic/van-detection/run_3ijy5bjy_model:v9', type='model')\n",
    "\n",
    "chkpt = artifact_b2.download()\n",
    "config = f'{config_base}/fcos_van_b2_fpn_coco.py'"
   ]
  },
  {
   "cell_type": "code",
   "execution_count": 24,
   "id": "0d8ed3ba-93e1-44db-8d8e-8e0de3704be8",
   "metadata": {},
   "outputs": [
    {
     "name": "stderr",
     "output_type": "stream",
     "text": [
      "\u001b[34m\u001b[1mwandb\u001b[0m: Downloading large artifact run_3ouwht0k_model:v0, 367.90MB. 1 files... \n",
      "\u001b[34m\u001b[1mwandb\u001b[0m:   1 of 1 files downloaded.  \n",
      "Done. 0:0:0.0\n"
     ]
    }
   ],
   "source": [
    "artifact_resnet_fcos = api.artifact('nkoch-aitastic/van-detection/run_3ouwht0k_model:v0', type='model')\n",
    "\n",
    "chkpt = f'{artifact_resnet_fcos.download()}/epoch_12.pth'\n",
    "config = f'configs/refs/fcos_r50_caffe_fpn_gn-head_1x_coco_adam.py'"
   ]
  },
  {
   "cell_type": "code",
   "execution_count": null,
   "id": "9eb36e35-7d7c-4c63-accc-e8d6e4596bd9",
   "metadata": {},
   "outputs": [
    {
     "name": "stderr",
     "output_type": "stream",
     "text": [
      "\u001b[34m\u001b[1mwandb\u001b[0m: Downloading large artifact run_2gigg6ev_model:v9, 135.91MB. 1 files... \n",
      "\u001b[34m\u001b[1mwandb\u001b[0m:   1 of 1 files downloaded.  \n",
      "Done. 0:0:0.0\n"
     ]
    }
   ],
   "source": [
    "artifact = api.artifact('nkoch-aitastic/van-detection/run_2gigg6ev_model:v9', type='model')\n",
    "\n",
    "path = artifact.download()\n",
    "chkpt = f'{path}/iter_40000.pth'\n",
    "config = f'{config_base}/fcos_van_b0_fpn_coco.py'"
   ]
  },
  {
   "cell_type": "code",
   "execution_count": 65,
   "id": "d81172e1-5d8f-4ac6-b7af-1ff6c68c4c86",
   "metadata": {},
   "outputs": [
    {
     "name": "stderr",
     "output_type": "stream",
     "text": [
      "\u001b[34m\u001b[1mwandb\u001b[0m: Downloading large artifact run_36ttdhnx_model:v0, 135.91MB. 1 files... \n",
      "\u001b[34m\u001b[1mwandb\u001b[0m:   1 of 1 files downloaded.  \n",
      "Done. 0:0:0.0\n"
     ]
    }
   ],
   "source": [
    "artifact = api.artifact('nkoch-aitastic/van-detection/run_36ttdhnx_model:v0', type='model')\n",
    "\n",
    "path = artifact.download()\n",
    "chkpt = f'{path}/epoch_12.pth'\n",
    "config = f'{config_base}/fcos_van_b0_fpn_coco.py'"
   ]
  },
  {
   "cell_type": "markdown",
   "id": "fcb0c543-3d58-4977-a000-5d81823f02b3",
   "metadata": {
    "jp-MarkdownHeadingCollapsed": true,
    "tags": []
   },
   "source": [
    "## Benchmark FPS"
   ]
  },
  {
   "cell_type": "code",
   "execution_count": 66,
   "id": "abdbf863-bc85-4cfd-a16f-2e2fcdad251c",
   "metadata": {},
   "outputs": [
    {
     "name": "stdout",
     "output_type": "stream",
     "text": [
      "loading annotations into memory...\n",
      "Done (t=0.38s)\n",
      "creating index...\n",
      "index created!\n",
      "load checkpoint from local path: ./artifacts/run_36ttdhnx_model:v0/epoch_12.pth\n",
      "/home/nils/miniconda3/envs/detection/lib/python3.10/site-packages/torch/functional.py:478: UserWarning: torch.meshgrid: in an upcoming release, it will be required to pass the indexing argument. (Triggered internally at  ../aten/src/ATen/native/TensorShape.cpp:2894.)\n",
      "  return _VF.meshgrid(tensors, **kwargs)  # type: ignore[attr-defined]\n",
      "Done image [50 / 2000], fps: 6.7 img / s, times per image: 149.7 ms / img\n",
      "Done image [100/ 2000], fps: 10.2 img / s, times per image: 98.5 ms / img\n",
      "Done image [150/ 2000], fps: 11.2 img / s, times per image: 89.0 ms / img\n",
      "Done image [200/ 2000], fps: 12.7 img / s, times per image: 78.6 ms / img\n",
      "Done image [250/ 2000], fps: 13.4 img / s, times per image: 74.9 ms / img\n",
      "Done image [300/ 2000], fps: 13.9 img / s, times per image: 72.1 ms / img\n",
      "Done image [350/ 2000], fps: 14.6 img / s, times per image: 68.3 ms / img\n",
      "Done image [400/ 2000], fps: 14.9 img / s, times per image: 67.2 ms / img\n",
      "Done image [450/ 2000], fps: 15.3 img / s, times per image: 65.4 ms / img\n",
      "Done image [500/ 2000], fps: 15.9 img / s, times per image: 63.0 ms / img\n",
      "Done image [550/ 2000], fps: 16.2 img / s, times per image: 61.7 ms / img\n",
      "Done image [600/ 2000], fps: 16.9 img / s, times per image: 59.3 ms / img\n",
      "Done image [650/ 2000], fps: 17.3 img / s, times per image: 57.8 ms / img\n",
      "Done image [700/ 2000], fps: 17.6 img / s, times per image: 56.7 ms / img\n",
      "Done image [750/ 2000], fps: 18.1 img / s, times per image: 55.1 ms / img\n",
      "Done image [800/ 2000], fps: 18.6 img / s, times per image: 53.7 ms / img\n",
      "Done image [850/ 2000], fps: 19.1 img / s, times per image: 52.5 ms / img\n",
      "Done image [900/ 2000], fps: 19.5 img / s, times per image: 51.3 ms / img\n",
      "Done image [950/ 2000], fps: 19.9 img / s, times per image: 50.3 ms / img\n",
      "Done image [1000/ 2000], fps: 20.1 img / s, times per image: 49.8 ms / img\n",
      "Done image [1050/ 2000], fps: 20.4 img / s, times per image: 49.0 ms / img\n",
      "Done image [1100/ 2000], fps: 20.6 img / s, times per image: 48.6 ms / img\n",
      "Done image [1150/ 2000], fps: 20.9 img / s, times per image: 47.9 ms / img\n",
      "Done image [1200/ 2000], fps: 21.2 img / s, times per image: 47.3 ms / img\n",
      "Done image [1250/ 2000], fps: 21.4 img / s, times per image: 46.7 ms / img\n",
      "Done image [1300/ 2000], fps: 21.7 img / s, times per image: 46.1 ms / img\n",
      "Done image [1350/ 2000], fps: 21.9 img / s, times per image: 45.7 ms / img\n",
      "Done image [1400/ 2000], fps: 22.0 img / s, times per image: 45.5 ms / img\n",
      "Done image [1450/ 2000], fps: 22.2 img / s, times per image: 45.0 ms / img\n",
      "Done image [1500/ 2000], fps: 22.3 img / s, times per image: 44.9 ms / img\n",
      "Done image [1550/ 2000], fps: 22.3 img / s, times per image: 44.8 ms / img\n",
      "Done image [1600/ 2000], fps: 22.5 img / s, times per image: 44.4 ms / img\n",
      "Done image [1650/ 2000], fps: 22.7 img / s, times per image: 44.1 ms / img\n",
      "Done image [1700/ 2000], fps: 22.9 img / s, times per image: 43.7 ms / img\n",
      "Done image [1750/ 2000], fps: 23.0 img / s, times per image: 43.4 ms / img\n",
      "Done image [1800/ 2000], fps: 23.2 img / s, times per image: 43.1 ms / img\n",
      "Done image [1850/ 2000], fps: 23.4 img / s, times per image: 42.8 ms / img\n",
      "Done image [1900/ 2000], fps: 23.5 img / s, times per image: 42.5 ms / img\n",
      "Done image [1950/ 2000], fps: 23.5 img / s, times per image: 42.5 ms / img\n",
      "Done image [2000/ 2000], fps: 23.7 img / s, times per image: 42.2 ms / img\n",
      "Overall fps: 23.7 img / s, times per image: 42.2 ms / img\n"
     ]
    }
   ],
   "source": [
    "!torchrun --rdzv_backend=c10d --rdzv_endpoint=localhost:29507 mmdetection/tools/analysis_tools/benchmark.py {config} {chkpt} --launcher pytorch"
   ]
  },
  {
   "cell_type": "markdown",
   "id": "05ddbd84-690e-4528-9bab-ebb16c3bf1ce",
   "metadata": {
    "tags": []
   },
   "source": [
    "## Calculate FLOPs for misc configs"
   ]
  },
  {
   "cell_type": "code",
   "execution_count": 70,
   "id": "6f11d0a5-884c-457c-9435-fd7e2121cfcb",
   "metadata": {},
   "outputs": [
    {
     "name": "stdout",
     "output_type": "stream",
     "text": [
      "env: CUDA_VISIBLE_DEVICES=1\n",
      "fcos_r50_caffe_fpn_gn-head_1x_coco_adam.py\n",
      "==============================\n",
      "Input shape: (3, 1344, 800)\n",
      "Flops: 210.59 GFLOPs\n",
      "Params: 32.02 M\n",
      "==============================\n",
      "deformable_detr_r50_16x2_50e_coco.py\n",
      "/home/nils/miniconda3/envs/detection/lib/python3.10/site-packages/mmcv/cnn/utils/flops_counter.py:537: UserWarning: variables __flops__ or __params__ are already defined for the moduleReLU ptflops can affect your code!\n",
      "  warnings.warn('variables __flops__ or __params__ are already '\n",
      "/home/nils/miniconda3/envs/detection/lib/python3.10/site-packages/mmdet/models/detectors/detr.py:32: UserWarning: Warning! MultiheadAttention in DETR does not support flops computation! Do not use the results in your papers!\n",
      "  warnings.warn('Warning! MultiheadAttention in DETR does not '\n",
      "/home/nils/miniconda3/envs/detection/lib/python3.10/site-packages/mmdet/models/utils/positional_encoding.py:81: UserWarning: __floordiv__ is deprecated, and its behavior will change in a future version of pytorch. It currently rounds toward 0 (like the 'trunc' function NOT 'floor'). This results in incorrect rounding for negative values. To keep the current behavior, use torch.div(a, b, rounding_mode='trunc'), or for actual floor division, use torch.div(a, b, rounding_mode='floor').\n",
      "  dim_t = self.temperature**(2 * (dim_t // 2) / self.num_feats)\n",
      "/home/nils/miniconda3/envs/detection/lib/python3.10/site-packages/torch/functional.py:478: UserWarning: torch.meshgrid: in an upcoming release, it will be required to pass the indexing argument. (Triggered internally at  ../aten/src/ATen/native/TensorShape.cpp:2894.)\n",
      "  return _VF.meshgrid(tensors, **kwargs)  # type: ignore[attr-defined]\n",
      "==============================\n",
      "Input shape: (3, 1344, 800)\n",
      "Flops: 204.95 GFLOPs\n",
      "Params: 39.84 M\n",
      "==============================\n",
      "\n",
      "\n",
      "fcos_van_b0_fpn_coco.py\n",
      "==============================\n",
      "Input shape: (3, 1344, 800)\n",
      "Flops: 142.76 GFLOPs\n",
      "Params: 11.84 M\n",
      "==============================\n",
      "\n",
      "\n",
      "fcos_van_b0_fpn_dcn_1x_coco.py\n",
      "==============================\n",
      "Input shape: (3, 1344, 800)\n",
      "Flops: 119.15 GFLOPs\n",
      "Params: 11.96 M\n",
      "==============================\n",
      "\n",
      "\n",
      "fcos_van_b0_fpn_dcn_1x_coco_adam_scp_bof.py\n",
      "==============================\n",
      "Input shape: (3, 1344, 800)\n",
      "Flops: 119.15 GFLOPs\n",
      "Params: 11.96 M\n",
      "==============================\n",
      "\n",
      "\n",
      "fcos_van_b0_starrelu_fpn_coco.py\n",
      "==============================\n",
      "Input shape: (3, 1344, 800)\n",
      "Flops: 142.86 GFLOPs\n",
      "Params: 11.84 M\n",
      "==============================\n",
      "\n",
      "\n",
      "fcos_van_b2_fpn_coco.py\n",
      "==============================\n",
      "Input shape: (3, 1344, 800)\n",
      "Flops: 232.15 GFLOPs\n",
      "Params: 34.16 M\n",
      "==============================\n",
      "\n",
      "\n",
      "deformable_detr_van_b0_2x1_12e_coco.py\n",
      "/home/nils/miniconda3/envs/detection/lib/python3.10/site-packages/mmcv/cnn/utils/flops_counter.py:537: UserWarning: variables __flops__ or __params__ are already defined for the moduleReLU ptflops can affect your code!\n",
      "  warnings.warn('variables __flops__ or __params__ are already '\n",
      "/home/nils/miniconda3/envs/detection/lib/python3.10/site-packages/mmdet/models/detectors/detr.py:32: UserWarning: Warning! MultiheadAttention in DETR does not support flops computation! Do not use the results in your papers!\n",
      "  warnings.warn('Warning! MultiheadAttention in DETR does not '\n",
      "/home/nils/miniconda3/envs/detection/lib/python3.10/site-packages/mmdet/models/utils/positional_encoding.py:81: UserWarning: __floordiv__ is deprecated, and its behavior will change in a future version of pytorch. It currently rounds toward 0 (like the 'trunc' function NOT 'floor'). This results in incorrect rounding for negative values. To keep the current behavior, use torch.div(a, b, rounding_mode='trunc'), or for actual floor division, use torch.div(a, b, rounding_mode='floor').\n",
      "  dim_t = self.temperature**(2 * (dim_t // 2) / self.num_feats)\n",
      "/home/nils/miniconda3/envs/detection/lib/python3.10/site-packages/torch/functional.py:478: UserWarning: torch.meshgrid: in an upcoming release, it will be required to pass the indexing argument. (Triggered internally at  ../aten/src/ATen/native/TensorShape.cpp:2894.)\n",
      "  return _VF.meshgrid(tensors, **kwargs)  # type: ignore[attr-defined]\n",
      "==============================\n",
      "Input shape: (3, 1344, 800)\n",
      "Flops: 461.2 GFLOPs\n",
      "Params: 14.95 M\n",
      "==============================\n"
     ]
    }
   ],
   "source": [
    "%env CUDA_VISIBLE_DEVICES=1\n",
    "input_shape = \"1333 800\"\n",
    "ref_base = 'configs/refs'\n",
    "refs = [\n",
    "    'fcos_r50_caffe_fpn_gn-head_1x_coco_adam.py',\n",
    "    'deformable_detr_r50_16x2_50e_coco.py',\n",
    "]\n",
    "configs = [\n",
    "    'fcos_van_b0_fpn_coco.py',\n",
    "    'fcos_van_b0_fpn_dcn_1x_coco.py',\n",
    "    'fcos_van_b0_fpn_dcn_1x_coco_adam_scp_bof.py',\n",
    "    'fcos_van_b0_starrelu_fpn_coco.py',\n",
    "    'fcos_van_b2_fpn_coco.py',\n",
    "    # 'fcos_van_b3_fpn_coco.py',\n",
    "    'deformable_detr_van_b0_2x1_12e_coco.py',\n",
    "]\n",
    "\n",
    "tail_output = \"| tail -n 6 | head -n 5\"\n",
    "# tail_output = \"\"\n",
    "\n",
    "for ref in refs:\n",
    "    print(f'{ref}')\n",
    "    !python mmdetection/tools/analysis_tools/get_flops.py {ref_base}/{ref} --shape {input_shape} {tail_output}\n",
    "\n",
    "for conf in configs:\n",
    "    print(f'\\n\\n{conf}')\n",
    "    !python mmdetection/tools/analysis_tools/get_flops.py {config_base}/{conf} --shape {input_shape} {tail_output}"
   ]
  }
 ],
 "metadata": {
  "kernelspec": {
   "display_name": "Python 3 (ipykernel)",
   "language": "python",
   "name": "python3"
  },
  "language_info": {
   "codemirror_mode": {
    "name": "ipython",
    "version": 3
   },
   "file_extension": ".py",
   "mimetype": "text/x-python",
   "name": "python",
   "nbconvert_exporter": "python",
   "pygments_lexer": "ipython3",
   "version": "3.10.0"
  }
 },
 "nbformat": 4,
 "nbformat_minor": 5
}
